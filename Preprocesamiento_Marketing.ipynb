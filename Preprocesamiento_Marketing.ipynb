{
  "cells": [
    {
      "cell_type": "markdown",
      "metadata": {
        "id": "view-in-github",
        "colab_type": "text"
      },
      "source": [
        "<a href=\"https://colab.research.google.com/github/leidysguerrero120/Trabajo-Anal-tica-3---Marketing/blob/main/Preprocesamiento_Marketing.ipynb\" target=\"_parent\"><img src=\"https://colab.research.google.com/assets/colab-badge.svg\" alt=\"Open In Colab\"/></a>"
      ]
    },
    {
      "cell_type": "markdown",
      "metadata": {
        "id": "kJj-erW15E01"
      },
      "source": [
        "# **Analítica III - Caso de Estudio Marketing**\n",
        "Leidys Guerrero Lobo. Leidys.guerrero@udea.edu.co\n",
        "Paola Andrea Arabia Álvarez. Paola.arabia@udea.edu.co\n",
        "Mateo Caicedo Aguirre. mateo.caicedo@udea.edu.co"
      ]
    },
    {
      "cell_type": "markdown",
      "source": [
        "***PREPROCESAMIENTO***"
      ],
      "metadata": {
        "id": "UegF31jPs7Ed"
      }
    },
    {
      "cell_type": "code",
      "source": [
        "###Instalar la extensión ipython-sql\n",
        "!pip install -q ipython-sql\n",
        "\n",
        "###Cargar la extensión\n",
        "%load_ext sql\n",
        "\n",
        "###Instalar bibliotecas necesarias\n",
        "!pip install sqlalchemy\n",
        "!pip install mysql-connector-python\n",
        "\n",
        "###Importar bibliotecas\n",
        "import sqlite3\n",
        "from sqlalchemy import create_engine\n",
        "import pandas as pd\n"
      ],
      "metadata": {
        "colab": {
          "base_uri": "https://localhost:8080/"
        },
        "id": "vtLoMxzgvCzc",
        "outputId": "cc22a7ab-d5e1-4857-fe4a-218e7e910fd6"
      },
      "execution_count": 16,
      "outputs": [
        {
          "output_type": "stream",
          "name": "stdout",
          "text": [
            "The sql extension is already loaded. To reload it, use:\n",
            "  %reload_ext sql\n",
            "Requirement already satisfied: sqlalchemy in /usr/local/lib/python3.10/dist-packages (2.0.35)\n",
            "Requirement already satisfied: typing-extensions>=4.6.0 in /usr/local/lib/python3.10/dist-packages (from sqlalchemy) (4.12.2)\n",
            "Requirement already satisfied: greenlet!=0.4.17 in /usr/local/lib/python3.10/dist-packages (from sqlalchemy) (3.1.1)\n",
            "Requirement already satisfied: mysql-connector-python in /usr/local/lib/python3.10/dist-packages (9.0.0)\n"
          ]
        }
      ]
    },
    {
      "cell_type": "code",
      "source": [
        "###Conectarse a la base de datos\n",
        "conn = sqlite3.connect('/content/drive/MyDrive/db_movies_original')\n",
        "###Crear un cursor\n",
        "cur = conn.cursor()"
      ],
      "metadata": {
        "id": "ZoRfc7cDvKth"
      },
      "execution_count": 20,
      "outputs": []
    },
    {
      "cell_type": "code",
      "source": [
        "###Información de las columnas en la tabla 'ratings'\n",
        "cur.execute(\"PRAGMA table_info(ratings)\")\n",
        "columns_ratings = cur.fetchall()\n",
        "\n",
        "###Nombre de la columna y su tipo de datos para la tabla 'ratings'\n",
        "print(\"Tipos de datos de las columnas en la tabla 'ratings':\")\n",
        "for column in columns_ratings:\n",
        "    print(column[1] + \": \" + column[2])\n",
        "\n",
        "###Información de las columnas de la tabla 'movies'\n",
        "cur.execute(\"PRAGMA table_info(movies)\")\n",
        "columns_movies = cur.fetchall()\n",
        "\n",
        "###Nombre de la columna y su tipo de datos para la tabla 'movies'\n",
        "print(\"\\nTipos de datos de las columnas en la tabla 'movies':\")\n",
        "for column in columns_movies:\n",
        "    print(column[1] + \": \" + column[2])"
      ],
      "metadata": {
        "colab": {
          "base_uri": "https://localhost:8080/"
        },
        "id": "Jr8r_sDlvVEb",
        "outputId": "a513b4aa-135b-4f79-cd33-a1514cb0f80a"
      },
      "execution_count": 21,
      "outputs": [
        {
          "output_type": "stream",
          "name": "stdout",
          "text": [
            "Tipos de datos de las columnas en la tabla 'ratings':\n",
            "userId: INTEGER\n",
            "movieId: INTEGER\n",
            "rating: REAL\n",
            "timestamp: INTEGER\n",
            "\n",
            "Tipos de datos de las columnas en la tabla 'movies':\n",
            "movieId: INTEGER\n",
            "title: TEXT\n",
            "genres: TEXT\n"
          ]
        }
      ]
    },
    {
      "cell_type": "markdown",
      "source": [
        "***AJUSTES TABLA MOVIES***"
      ],
      "metadata": {
        "id": "GXGmWtGJvyc8"
      }
    },
    {
      "cell_type": "code",
      "source": [
        "###Extraer el año de lanzamiento de la película en la tabla movies, el cual está incluido en el título de película\n",
        "###Agregar una nueva columna para almacenar el año\n",
        "\n",
        "conn = sqlite3.connect('/content/drive/MyDrive/db_movies_original')\n",
        "cursor = conn.cursor()\n",
        "\n",
        "###Verificamos si la columna 'year' ya existe en la tabla 'movies'\n",
        "cursor.execute(\"PRAGMA table_info(movies)\")\n",
        "columns = cursor.fetchall()\n",
        "column_names = [col[1] for col in columns]\n",
        "if 'year' not in column_names:\n",
        "    ###Si no existe, agregamos la nueva columna\n",
        "    cursor.execute(\"ALTER TABLE movies ADD COLUMN year INTEGER\")\n",
        "\n",
        "###Actualizar la nueva columna con el año extraído del título de la película\n",
        "cursor.execute(\"\"\"\n",
        "    UPDATE movies\n",
        "    SET year = CAST(SUBSTR(title, -5, 4) AS INTEGER)\n",
        "\"\"\")\n",
        "\n",
        "##Confirmamos los cambios y cerramos la conexión\n",
        "conn.commit()\n",
        "conn.close()"
      ],
      "metadata": {
        "id": "G9zKGm17v1t5"
      },
      "execution_count": 24,
      "outputs": []
    },
    {
      "cell_type": "markdown",
      "source": [],
      "metadata": {
        "id": "DEKtYN0sxB-P"
      }
    },
    {
      "cell_type": "code",
      "source": [
        "conn = sqlite3.connect('/content/drive/MyDrive/db_movies_original')\n",
        "cursor = conn.cursor()\n",
        "\n",
        "###Verificamos las columnas de la tabla 'movies'\n",
        "\n",
        "###Obtenemos la información sobre las columnas de la tabla 'movies'\n",
        "cursor.execute(\"PRAGMA table_info(movies)\")\n",
        "columns_info = cursor.fetchall()\n",
        "\n",
        "###Imprimimos el nombre de la columna y su tipo de datos\n",
        "for column in columns_info:\n",
        "    print(column[1], \"-\", column[2])\n",
        "\n",
        "###Cerramos la conexión a la base de datos\n",
        "conn.close()"
      ],
      "metadata": {
        "colab": {
          "base_uri": "https://localhost:8080/"
        },
        "id": "L7c72Punxhol",
        "outputId": "436a4974-4f57-4d2c-9487-476e6ba80d81"
      },
      "execution_count": 26,
      "outputs": [
        {
          "output_type": "stream",
          "name": "stdout",
          "text": [
            "movieId - INTEGER\n",
            "title - TEXT\n",
            "genres - TEXT\n",
            "year - INTEGER\n"
          ]
        }
      ]
    },
    {
      "cell_type": "code",
      "source": [
        "from google.colab import drive\n",
        "drive.mount('/content/drive')"
      ],
      "metadata": {
        "colab": {
          "base_uri": "https://localhost:8080/"
        },
        "id": "hZA7aVFXxsSg",
        "outputId": "a9e43b74-8c49-48aa-c3b7-3146857b1e5f"
      },
      "execution_count": 27,
      "outputs": [
        {
          "output_type": "stream",
          "name": "stdout",
          "text": [
            "Drive already mounted at /content/drive; to attempt to forcibly remount, call drive.mount(\"/content/drive\", force_remount=True).\n"
          ]
        }
      ]
    },
    {
      "cell_type": "markdown",
      "source": [
        "***AJUSTES EN LA TABLA RATINGS***"
      ],
      "metadata": {
        "id": "2cdpw56Yx45t"
      }
    },
    {
      "cell_type": "code",
      "source": [
        "###Verificamos el contenido de las primeras filas de la tabla ratings\n",
        "conn = sqlite3.connect('/content/drive/MyDrive/db_movies_original')\n",
        "\n",
        "query = \"SELECT * FROM ratings LIMIT 5\"\n",
        "\n",
        "###Ejecutamos la consulta y cargamos los resultados en un DataFrame de Pandas\n",
        "ratings = pd.read_sql(query, conn)\n",
        "\n",
        "print(ratings)\n",
        "conn.close()"
      ],
      "metadata": {
        "colab": {
          "base_uri": "https://localhost:8080/"
        },
        "id": "RjOHiGx6x0hq",
        "outputId": "031ac200-6c56-4c94-f0d0-1eb0a8ed2dd9"
      },
      "execution_count": 29,
      "outputs": [
        {
          "output_type": "stream",
          "name": "stdout",
          "text": [
            "   userId  movieId  rating  timestamp\n",
            "0       1        1     4.0  964982703\n",
            "1       1        3     4.0  964981247\n",
            "2       1        6     4.0  964982224\n",
            "3       1       47     5.0  964983815\n",
            "4       1       50     5.0  964982931\n"
          ]
        }
      ]
    },
    {
      "cell_type": "markdown",
      "source": [
        "***CREACIÓN DE NUEVAS TABLAS***"
      ],
      "metadata": {
        "id": "Qet7QaGL9Egb"
      }
    },
    {
      "cell_type": "code",
      "source": [
        "conn = sqlite3.connect('/content/drive/MyDrive/db_movies_original')\n",
        "\n",
        "###Crear tabla de usuarios con más de 50 películas vistas\n",
        "query = \"\"\"\n",
        "    DROP TABLE IF EXISTS usuarios_sel;\n",
        "    CREATE TABLE usuarios_sel AS\n",
        "    SELECT \"userId\" AS user_id, COUNT(*) AS cnt_rat\n",
        "    FROM ratings\n",
        "    GROUP BY \"userId\"\n",
        "    HAVING cnt_rat > 50\n",
        "    ORDER BY cnt_rat DESC;\n",
        "\"\"\"\n",
        "\n",
        "conn.executescript(query)\n",
        "\n",
        "conn = sqlite3.connect('/content/drive/MyDrive/db_movies_original')\n",
        "query = \"SELECT * FROM usuarios_sel LIMIT 5\"\n",
        "\n",
        "usuarios_sel = pd.read_sql(query, conn)\n",
        "\n",
        "print(usuarios_sel)\n",
        "\n",
        "conn.close()"
      ],
      "metadata": {
        "colab": {
          "base_uri": "https://localhost:8080/"
        },
        "id": "unvnLHxkyNQg",
        "outputId": "d3cb056e-994a-4d45-ba12-5a0935467f47"
      },
      "execution_count": 31,
      "outputs": [
        {
          "output_type": "stream",
          "name": "stdout",
          "text": [
            "   user_id  cnt_rat\n",
            "0      414     2698\n",
            "1      599     2478\n",
            "2      474     2108\n",
            "3      448     1864\n",
            "4      274     1346\n"
          ]
        }
      ]
    },
    {
      "cell_type": "code",
      "source": [
        "###Crear tabla con películas que han sido calificadas por más de 50 usuarios\n",
        "conn = sqlite3.connect('/content/drive/MyDrive/db_movies_original')\n",
        "\n",
        "query = \"\"\"\n",
        "DROP TABLE IF EXISTS movies_sel;\n",
        "\n",
        "CREATE TABLE movies_sel AS\n",
        "SELECT \"movieId\",\n",
        "       COUNT(*) AS cnt_rat\n",
        "FROM ratings\n",
        "GROUP BY \"movieId\"\n",
        "HAVING cnt_rat > 50\n",
        "ORDER BY cnt_rat DESC;\n",
        "\"\"\"\n",
        "\n",
        "conn.executescript(query)\n",
        "conn.close()\n",
        "\n",
        "conn = sqlite3.connect('/content/drive/MyDrive/db_movies_original')\n",
        "query = \"SELECT * FROM movies_sel LIMIT 5\"\n",
        "\n",
        "movies_sel = pd.read_sql(query, conn)\n",
        "\n",
        "print(movies_sel)\n",
        "\n",
        "conn.close()"
      ],
      "metadata": {
        "colab": {
          "base_uri": "https://localhost:8080/"
        },
        "id": "mBnpiprp_Mah",
        "outputId": "dc0025d0-a400-4e4a-a124-87dc55d4063e"
      },
      "execution_count": 38,
      "outputs": [
        {
          "output_type": "stream",
          "name": "stdout",
          "text": [
            "   movieId  cnt_rat\n",
            "0      356      329\n",
            "1      318      317\n",
            "2      296      307\n",
            "3      593      279\n",
            "4     2571      278\n"
          ]
        }
      ]
    },
    {
      "cell_type": "code",
      "source": [
        "###Crear tablas filtradas de calificaciones con usuarios y películas (ratings_final)\n",
        "conn = sqlite3.connect('/content/drive/MyDrive/db_movies_original')\n",
        "\n",
        "query = \"\"\"\n",
        "DROP TABLE IF EXISTS ratings_final;\n",
        "\n",
        "CREATE TABLE ratings_final AS\n",
        "SELECT a.\"userId\" AS user_id,\n",
        "       a.\"movieId\" AS movie_id,\n",
        "       a.\"rating\" AS rating\n",
        "FROM ratings a\n",
        "INNER JOIN movies_sel b ON a.movieId = b.movieId\n",
        "INNER JOIN usuarios_sel c ON a.\"userId\" = c.user_id;\n",
        "\"\"\"\n",
        "conn.executescript(query)\n",
        "conn.close()\n",
        "\n",
        "conn = sqlite3.connect('/content/drive/MyDrive/db_movies_original')\n",
        "query = \"SELECT * FROM ratings_final LIMIT 5\"\n",
        "ratings_final = pd.read_sql(query, conn)\n",
        "\n",
        "print(ratings_final)\n",
        "conn.close()"
      ],
      "metadata": {
        "colab": {
          "base_uri": "https://localhost:8080/"
        },
        "id": "LCRwP0dHAbk7",
        "outputId": "39c8a515-d0c2-4b71-afab-640512bd9daf"
      },
      "execution_count": 41,
      "outputs": [
        {
          "output_type": "stream",
          "name": "stdout",
          "text": [
            "   user_id  movie_id  rating\n",
            "0        1         1     4.0\n",
            "1        1         3     4.0\n",
            "2        1         6     4.0\n",
            "3        1        47     5.0\n",
            "4        1        50     5.0\n"
          ]
        }
      ]
    },
    {
      "cell_type": "code",
      "source": [
        "###Movies Final\n",
        "conn = sqlite3.connect('/content/drive/MyDrive/db_movies_original')\n",
        "\n",
        "query = \"\"\"\n",
        "DROP TABLE IF EXISTS movies_final;\n",
        "\n",
        "CREATE TABLE movies_final AS\n",
        "SELECT a.movieId AS movie_id,\n",
        "       a.title AS movie_title,\n",
        "       a.genres,\n",
        "       a.year\n",
        "FROM movies a\n",
        "INNER JOIN movies_sel c ON a.movieId = c.movieId;\n",
        "\"\"\"\n",
        "\n",
        "conn.executescript(query)\n",
        "\n",
        "conn.close()\n",
        "\n",
        "conn = sqlite3.connect('/content/drive/MyDrive/db_movies_original')\n",
        "query = \"SELECT * FROM movies_final LIMIT 5\"\n",
        "\n",
        "movies_final = pd.read_sql(query, conn)\n",
        "\n",
        "print(movies_final)\n",
        "conn.close()"
      ],
      "metadata": {
        "colab": {
          "base_uri": "https://localhost:8080/"
        },
        "id": "kKpSZ5TgAr2y",
        "outputId": "29884b07-3640-4374-fce3-e29173e737c9"
      },
      "execution_count": 43,
      "outputs": [
        {
          "output_type": "stream",
          "name": "stdout",
          "text": [
            "   movie_id              movie_title  \\\n",
            "0         1         Toy Story (1995)   \n",
            "1         2           Jumanji (1995)   \n",
            "2         3  Grumpier Old Men (1995)   \n",
            "3         6              Heat (1995)   \n",
            "4         7           Sabrina (1995)   \n",
            "\n",
            "                                        genres  year  \n",
            "0  Adventure|Animation|Children|Comedy|Fantasy  1995  \n",
            "1                   Adventure|Children|Fantasy  1995  \n",
            "2                               Comedy|Romance  1995  \n",
            "3                        Action|Crime|Thriller  1995  \n",
            "4                               Comedy|Romance  1995  \n"
          ]
        }
      ]
    },
    {
      "cell_type": "code",
      "source": [
        "conn = sqlite3.connect('/content/drive/MyDrive/db_movies_original')\n",
        "cursor = conn.cursor()\n",
        "\n",
        "script = \"\"\"\n",
        "DROP TABLE IF EXISTS full_ratings;\n",
        "\n",
        "CREATE TABLE full_ratings AS\n",
        "SELECT a.*,\n",
        "       c.movie_title,\n",
        "       c.genres,\n",
        "       c.year\n",
        "FROM ratings_final a\n",
        "INNER JOIN movies_final c ON a.movie_id = c.movie_id;\n",
        "\"\"\"\n",
        "\n",
        "cursor.executescript(script)\n",
        "\n",
        "conn.commit()\n",
        "conn.close()\n",
        "\n",
        "print(\"Tabla 'full_ratings' creada con éxito.\")"
      ],
      "metadata": {
        "colab": {
          "base_uri": "https://localhost:8080/"
        },
        "id": "XoMC1LSAF8Cd",
        "outputId": "5ce8881b-d478-49ba-8cdc-f5db979303fa"
      },
      "execution_count": 44,
      "outputs": [
        {
          "output_type": "stream",
          "name": "stdout",
          "text": [
            "Tabla 'full_ratings' creada con éxito.\n"
          ]
        }
      ]
    },
    {
      "cell_type": "code",
      "source": [
        "conn = sqlite3.connect('/content/drive/MyDrive/db_movies_original')\n",
        "\n",
        "query = \"SELECT * FROM full_ratings LIMIT 5\"\n",
        "\n",
        "full_ratings = pd.read_sql(query, conn)\n",
        "\n",
        "print(full_ratings)"
      ],
      "metadata": {
        "colab": {
          "base_uri": "https://localhost:8080/"
        },
        "id": "tU3Z0Y-fGDiG",
        "outputId": "a6884747-15f9-4382-88ba-888751bf7eeb"
      },
      "execution_count": 45,
      "outputs": [
        {
          "output_type": "stream",
          "name": "stdout",
          "text": [
            "   user_id  movie_id  rating                  movie_title  \\\n",
            "0        1         1     4.0             Toy Story (1995)   \n",
            "1        1         3     4.0      Grumpier Old Men (1995)   \n",
            "2        1         6     4.0                  Heat (1995)   \n",
            "3        1        47     5.0  Seven (a.k.a. Se7en) (1995)   \n",
            "4        1        50     5.0   Usual Suspects, The (1995)   \n",
            "\n",
            "                                        genres  year  \n",
            "0  Adventure|Animation|Children|Comedy|Fantasy  1995  \n",
            "1                               Comedy|Romance  1995  \n",
            "2                        Action|Crime|Thriller  1995  \n",
            "3                             Mystery|Thriller  1995  \n",
            "4                       Crime|Mystery|Thriller  1995  \n"
          ]
        }
      ]
    },
    {
      "cell_type": "markdown",
      "source": [
        "***Exportar la tabla preprocesada en SQL***"
      ],
      "metadata": {
        "id": "G2pWh0ayHNik"
      }
    },
    {
      "cell_type": "code",
      "source": [
        "query = \"SELECT * FROM full_ratings\"\n",
        "\n",
        "df = pd.read_sql_query(query, conn)\n",
        "\n",
        "df.to_csv('full_ratings.csv', index=False)\n",
        "\n",
        "print(\"La tabla 'full_ratings' se ha exportado como full_ratings.csv\")\n",
        "\n",
        "conn.close()"
      ],
      "metadata": {
        "colab": {
          "base_uri": "https://localhost:8080/"
        },
        "id": "Tir1A1-8HI68",
        "outputId": "f9107ff5-d95f-4c87-99b8-72aa2cd92baa"
      },
      "execution_count": 46,
      "outputs": [
        {
          "output_type": "stream",
          "name": "stdout",
          "text": [
            "La tabla 'full_ratings' se ha exportado como full_ratings.csv\n"
          ]
        }
      ]
    },
    {
      "cell_type": "code",
      "source": [
        "conn = sqlite3.connect('/content/drive/MyDrive/db_movies_original')\n",
        "\n",
        "cur = conn.cursor()\n",
        "\n",
        "cur.execute(\"SELECT name FROM sqlite_master WHERE type='table';\")\n",
        "tables = cur.fetchall()\n",
        "\n",
        "for table in tables:\n",
        "    print(table[0])"
      ],
      "metadata": {
        "colab": {
          "base_uri": "https://localhost:8080/"
        },
        "id": "XKZhnA1wHVni",
        "outputId": "5551f8b8-4b7e-4e5d-8c73-21727bfa19cc"
      },
      "execution_count": 48,
      "outputs": [
        {
          "output_type": "stream",
          "name": "stdout",
          "text": [
            "ratings\n",
            "movies\n",
            "usuarios_sel\n",
            "movies_sel\n",
            "ratings_final\n",
            "movies_final\n",
            "full_ratings\n"
          ]
        }
      ]
    }
  ],
  "metadata": {
    "colab": {
      "provenance": [],
      "mount_file_id": "1oIFZxwhsQp2yc3HTUFt2hkRr4czY2jkR",
      "authorship_tag": "ABX9TyNxgRXXS6pS9jLFdawY2eI7",
      "include_colab_link": true
    },
    "kernelspec": {
      "display_name": "Python 3",
      "name": "python3"
    },
    "language_info": {
      "name": "python"
    }
  },
  "nbformat": 4,
  "nbformat_minor": 0
}